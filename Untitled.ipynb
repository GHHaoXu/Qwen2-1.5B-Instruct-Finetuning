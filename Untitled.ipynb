{
 "cells": [
  {
   "cell_type": "code",
   "execution_count": 4,
   "id": "77d1db04-9d12-45f1-824c-75d9b2924177",
   "metadata": {},
   "outputs": [
    {
     "name": "stderr",
     "output_type": "stream",
     "text": [
      "Downloading: 100%|██████████| 660/660 [00:00<00:00, 639kB/s]\n",
      "Downloading: 100%|██████████| 48.0/48.0 [00:00<00:00, 44.7kB/s]\n",
      "Downloading: 100%|██████████| 242/242 [00:00<00:00, 268kB/s]\n",
      "Downloading: 100%|██████████| 11.1k/11.1k [00:00<00:00, 9.31MB/s]\n",
      "Downloading: 100%|██████████| 1.59M/1.59M [00:00<00:00, 10.6MB/s]\n",
      "Downloading: 100%|█████████▉| 2.88G/2.88G [04:35<00:00, 11.2MB/s]\n",
      "Downloading: 100%|██████████| 3.45k/3.45k [00:00<00:00, 3.63MB/s]\n",
      "Downloading: 100%|██████████| 6.70M/6.70M [00:00<00:00, 16.8MB/s]\n",
      "Downloading: 100%|██████████| 1.26k/1.26k [00:00<00:00, 1.32MB/s]\n",
      "Downloading: 100%|██████████| 2.65M/2.65M [00:00<00:00, 10.1MB/s]\n"
     ]
    }
   ],
   "source": [
    "import torch\n",
    "from modelscope import snapshot_download, AutoModel, AutoTokenizer\n",
    "import os\n",
    "model_dir = snapshot_download('qwen/Qwen2-1.5B-Instruct', cache_dir='/root/autodl-tmp', revision='master')"
   ]
  },
  {
   "cell_type": "code",
   "execution_count": 3,
   "id": "6d99f446-1b2d-44ef-b7e8-16de4b63dbcd",
   "metadata": {},
   "outputs": [
    {
     "name": "stdout",
     "output_type": "stream",
     "text": [
      "{\n",
      "  \"instruction\": \"阅读下列短文，从每题所给的四个选项《A、 B、 C和D)中。选出最佳选项。\",\n",
      "  \"input\": \"Read the following passage and answer the question in English.\\nPassage: Doctor are known to be terrible pilots. They don't listen because they already know it all. I was lucky: ] became a pilot in 1970, almost ten years before I graduated from medical school. I didn't realize then, but becoming a pilot makes me a better surgeon. I loved flying. As I flew bigger, faster planes, and in worse weather. I learned about crew resource management (机组资源管理), or CRM, a new idea to make flying safer. It means that crew members should listen and speak up for a good result, regardless of positions.    I first read about CRM in 1980. Not long after that, an attending doctor and I were flying in bad weather. The controller had us turn too late to get our landing ready. The attending doctor was flying; I was safety pilot He was so busy because of the bad turn, he had forgotten to put the landing gear (起落架) down. He was a better pilot - and my boss - so it felt unusual to speak up. But I had to: Our lives were in danger. I put aside my uneasiness and said, \\\"We need to put the landing gear down now!\\\" That was my first real lesson in the power of CRM, and I've used it in the operating room ever since. CRM requires that the pilot/surgeon encourage others to speak up. It further requires that when opinions are from the opposite, the doctor doesn't overreact, which might prevent fellow doctors from voicing opinions again. So when I'm in the operating room, I ask for ideas and help from others. Sometimes they're not willing to speak up. But I hope that if I continue to encourage them , someday someone will keep me  from ”landing gear up”.\\nQuestion: Which of the following can be the best title for the text? A.CRM:A New Way to Make Flying Safe B. Flying Makes Me a Better Doctor C. The Making of a Good Pilot D.A Pilot-Turned Doctor\",\n",
      "  \"output\": \"正确答案：B\\n解析：主旨大意题。作者通过当飞行员的经历，学到了CRM，并运用到自己的工作中，文章主要讲的是CRM带给作者的好处，B项“飞行使我成为一个更好的医生”符合题意，故选B。\",\n",
      "  \"subject\": \"英语\"\n",
      "}\n",
      "{\n",
      "  \"instruction\": \"阅读下列短文，从每题所给的四个选项《A、 B、 C和D)中。选出最佳选项。\",\n",
      "  \"input\": \"Read the following passage and answer the question in English.\\nPassage: Doctor are known to be terrible pilots. They don't listen because they already know it all. I was lucky: ] became a pilot in 1970, almost ten years before I graduated from medical school. I didn't realize then, but becoming a pilot makes me a better surgeon. I loved flying. As I flew bigger, faster planes, and in worse weather. I learned about crew resource management (机组资源管理), or CRM, a new idea to make flying safer. It means that crew members should listen and speak up for a good result, regardless of positions.    I first read about CRM in 1980. Not long after that, an attending doctor and I were flying in bad weather. The controller had us turn too late to get our landing ready. The attending doctor was flying; I was safety pilot He was so busy because of the bad turn, he had forgotten to put the landing gear (起落架) down. He was a better pilot - and my boss - so it felt unusual to speak up. But I had to: Our lives were in danger. I put aside my uneasiness and said, \\\"We need to put the landing gear down now!\\\" That was my first real lesson in the power of CRM, and I've used it in the operating room ever since. CRM requires that the pilot/surgeon encourage others to speak up. It further requires that when opinions are from the opposite, the doctor doesn't overreact, which might prevent fellow doctors from voicing opinions again. So when I'm in the operating room, I ask for ideas and help from others. Sometimes they're not willing to speak up. But I hope that if I continue to encourage them , someday someone will keep me  from ”landing gear up”.\\nQuestion: The author deepened his understanding of the power of CRM when_______.   A. he saved the plane by speaking up B. he was in charge of a flying task C. his boss landed the plane too late D. his boss operated on a patient\",\n",
      "  \"output\": \"正确答案：A\\n解析：细节理解题。根据第二段最后一句可知，作者在经历了一次飞行给上级提出了意见之后，对CRM有了更深的理解，故选A\",\n",
      "  \"subject\": \"英语\"\n",
      "}\n",
      "{\n",
      "  \"instruction\": \"阅读下列短文，从每题所给的四个选项《A、 B、 C和D)中。选出最佳选项。\",\n",
      "  \"input\": \"Read the following passage and answer the question in English.\\nPassage: Doctor are known to be terrible pilots. They don't listen because they already know it all. I was lucky: ] became a pilot in 1970, almost ten years before I graduated from medical school. I didn't realize then, but becoming a pilot makes me a better surgeon. I loved flying. As I flew bigger, faster planes, and in worse weather. I learned about crew resource management (机组资源管理), or CRM, a new idea to make flying safer. It means that crew members should listen and speak up for a good result, regardless of positions.    I first read about CRM in 1980. Not long after that, an attending doctor and I were flying in bad weather. The controller had us turn too late to get our landing ready. The attending doctor was flying; I was safety pilot He was so busy because of the bad turn, he had forgotten to put the landing gear (起落架) down. He was a better pilot - and my boss - so it felt unusual to speak up. But I had to: Our lives were in danger. I put aside my uneasiness and said, \\\"We need to put the landing gear down now!\\\" That was my first real lesson in the power of CRM, and I've used it in the operating room ever since. CRM requires that the pilot/surgeon encourage others to speak up. It further requires that when opinions are from the opposite, the doctor doesn't overreact, which might prevent fellow doctors from voicing opinions again. So when I'm in the operating room, I ask for ideas and help from others. Sometimes they're not willing to speak up. But I hope that if I continue to encourage them , someday someone will keep me  from ”landing gear up”.\\nQuestion: What dose the author say about doctors in general?   A. They like flying by themselves. B. They are unwilling to take advice. C. They pretend to be good pilots. D. They are quick learners of CRM.\",\n",
      "  \"output\": \"正确答案：B\\n解析：细节理解题。根据第一行Doctors are known to be terrible pilots. They don’t listen because they already know it all.可知，作者总体上认为doctors不喜欢倾听，他们认为他们什么都懂，故选B。\",\n",
      "  \"subject\": \"英语\"\n",
      "}\n"
     ]
    }
   ],
   "source": [
    "import json\n",
    "with open('./dataset/qwen2_sft_format.jsonl', \"r\", encoding=\"utf-8\") as f:\n",
    "    for i, line in enumerate(f):\n",
    "        if i >= 3:  # 控制只输出前3条\n",
    "            break\n",
    "        data = json.loads(line)\n",
    "        print(json.dumps(data, ensure_ascii=False, indent=2))  # 格式化输出"
   ]
  },
  {
   "cell_type": "code",
   "execution_count": null,
   "id": "b3e9c7e8-3593-4cda-aea0-5328d04a5d5a",
   "metadata": {},
   "outputs": [],
   "source": []
  }
 ],
 "metadata": {
  "kernelspec": {
   "display_name": "Python 3 (ipykernel)",
   "language": "python",
   "name": "python3"
  },
  "language_info": {
   "codemirror_mode": {
    "name": "ipython",
    "version": 3
   },
   "file_extension": ".py",
   "mimetype": "text/x-python",
   "name": "python",
   "nbconvert_exporter": "python",
   "pygments_lexer": "ipython3",
   "version": "3.10.8"
  }
 },
 "nbformat": 4,
 "nbformat_minor": 5
}
